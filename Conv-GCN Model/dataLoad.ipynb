{
  "nbformat": 4,
  "nbformat_minor": 0,
  "metadata": {
    "colab": {
      "provenance": [],
      "gpuType": "T4"
    },
    "kernelspec": {
      "name": "python3",
      "display_name": "Python 3"
    },
    "language_info": {
      "name": "python"
    },
    "accelerator": "GPU"
  },
  "cells": [
    {
      "cell_type": "code",
      "source": [
        "from numpy.random import seed\n",
        "seed(1)\n",
        "# from tensorflow import set_random_seed\n",
        "# set_random_seed(2)\n",
        "import matplotlib.pyplot as plt\n",
        "import numpy as np\n",
        "np.set_printoptions(threshold=np.inf)\n",
        "import time\n",
        "import csv\n",
        "\n",
        "global_start_time = time.time()\n",
        "def Get_All_Data(TG,time_lag,TG_in_one_day,forecast_day_number,TG_in_one_week):\n",
        "\n",
        "\tmetro_enter = []\n",
        "\twith open('/content/drive/MyDrive/data/inflowdata/in_'+str(TG)+'min.csv') as f:\n",
        "\t\tdata = csv.reader(f, delimiter=\",\")\n",
        "\t\tfor line in data:\n",
        "\t\t\tline=[int(x) for x in line]\n",
        "\t\t\tmetro_enter.append(line)\n",
        "\n",
        "\tdef get_train_data_enter(data,time_lag,TG_in_one_day,forecast_day_number,TG_in_one_week):\n",
        "\t\tdata=np.array(data)\n",
        "\t\tdata2=np.zeros((data.shape[0],data.shape[1]))\n",
        "\t\ta=np.max(data)\n",
        "\t\tb=np.min(data)\n",
        "\t\tfor i in range(len(data)):\n",
        "\t\t\tfor j in range(len(data[0])):\n",
        "\t\t\t\tdata2[i,j]=round((data[i,j]-b)/(a-b),5)\n",
        "\n",
        "\t\tX_train_1 = [[] for i in range(TG_in_one_week, len(data2[0]) - time_lag+1 - TG_in_one_day*forecast_day_number)]\n",
        "\t\tY_train = []\n",
        "\t\tfor index in range(TG_in_one_week, len(data2[0]) - time_lag+1 - TG_in_one_day*forecast_day_number):\n",
        "\t\t\tfor i in range(276):\n",
        "\t\t\t\ttemp=data2[i,index-TG_in_one_week: index + time_lag-1-TG_in_one_week].tolist()\n",
        "\t\t\t\ttemp.extend(data2[i,index-TG_in_one_day: index + time_lag-1-TG_in_one_day])\n",
        "\t\t\t\ttemp.extend(data2[i,index: index + time_lag-1])\n",
        "\t\t\t\tX_train_1[index-TG_in_one_week].append(temp)\n",
        "\t\t\tY_train.append(data2[:,index + time_lag-1])\n",
        "\t\tX_train_1,Y_train = np.array(X_train_1), np.array(Y_train)\n",
        "\t\tprint(\"X_train_1.shape,Y_train.shape\")\n",
        "\t\tprint(X_train_1.shape,Y_train.shape)\n",
        "\n",
        "\t\tX_test_1 = [[] for i in range(len(data2[0]) - TG_in_one_day*forecast_day_number,len(data2[0])-time_lag+1)]\n",
        "\t\tY_test = []\n",
        "\t\tfor index in range(len(data2[0]) - TG_in_one_day*forecast_day_number,len(data2[0])-time_lag+1):\n",
        "\t\t\tfor i in range(276):\n",
        "\t\t\t\ttemp=data2[i,index-TG_in_one_week: index + time_lag-1-TG_in_one_week].tolist()\n",
        "\t\t\t\ttemp.extend(data2[i,index-TG_in_one_day: index + time_lag-1-TG_in_one_day])\n",
        "\t\t\t\ttemp.extend(data2[i,index: index + time_lag-1])\n",
        "\t\t\t\tX_test_1[index-(len(data2[0]) - TG_in_one_day*forecast_day_number)].append(temp)\n",
        "\t\t\tY_test.append(data2[:,index + time_lag-1])\n",
        "\t\tX_test_1,Y_test = np.array(X_test_1), np.array(Y_test)\n",
        "\t\tprint(\"X_test_1.shape,Y_test.shape\")\n",
        "\t\tprint(X_test_1.shape,Y_test.shape)\n",
        "\n",
        "\t\tY_test_original = []\n",
        "\t\tfor index in range(len(data[0]) - TG_in_one_day*forecast_day_number,len(data[0])-time_lag+1):\n",
        "\t\t\tY_test_original.append(data[:,index + time_lag-1])\n",
        "\t\tY_test_original = np.array(Y_test_original)\n",
        "\t\tprint(\"Y_test_original.shape\")\n",
        "\t\tprint(Y_test_original.shape)\n",
        "\n",
        "\t\treturn X_train_1,Y_train,X_test_1,Y_test,Y_test_original,a,b\n",
        "\n",
        "\n",
        "\tX_train_1,Y_train,X_test_1,Y_test,Y_test_original,a,b=get_train_data_enter(metro_enter,time_lag,TG_in_one_day,forecast_day_number,TG_in_one_week)\n",
        "\tprint(a,b)\n",
        "\n",
        "\n",
        "\tmetro_exit = []\n",
        "\twith open('/content/drive/MyDrive/data/outflowdata/out_'+str(TG)+'min.csv') as f:\n",
        "\t\tdata = csv.reader(f, delimiter=\",\")\n",
        "\t\tfor line in data:\n",
        "\t\t\tline=[int(x) for x in line]\n",
        "\t\t\tmetro_exit.append(line)\n",
        "\n",
        "\tdef get_train_data_exit(data,time_lag,TG_in_one_day,forecast_day_number,TG_in_one_week):\n",
        "\t\tdata=np.array(data)\n",
        "\t\tdata2=np.zeros((data.shape[0],data.shape[1]))\n",
        "\t\ta=np.max(data)\n",
        "\t\tb=np.min(data)\n",
        "\t\tfor i in range(len(data)):\n",
        "\t\t\tfor j in range(len(data[0])):\n",
        "\t\t\t\tdata2[i,j]=round((data[i,j]-b)/(a-b),5)\n",
        "\n",
        "\t\tX_train_1 = [[] for i in range(TG_in_one_week, len(data2[0]) - time_lag+1 - TG_in_one_day*forecast_day_number)]\n",
        "\t\tfor index in range(TG_in_one_week, len(data2[0]) - time_lag+1 - TG_in_one_day*forecast_day_number):\n",
        "\t\t\tfor i in range(276):\n",
        "\t\t\t\ttemp=data2[i,index-TG_in_one_week: index + time_lag-1-TG_in_one_week].tolist()\n",
        "\t\t\t\ttemp.extend(data2[i,index-TG_in_one_day: index + time_lag-1-TG_in_one_day])\n",
        "\t\t\t\ttemp.extend(data2[i,index: index + time_lag-1])\n",
        "\t\t\t\tX_train_1[index-TG_in_one_week].append(temp)\n",
        "\t\tX_train_1= np.array(X_train_1)\n",
        "\t\tprint(X_train_1.shape)\n",
        "\n",
        "\t\tX_test_1 = [[] for i in range(len(data2[0]) - TG_in_one_day*forecast_day_number,len(data2[0])-time_lag+1)]\n",
        "\t\tfor index in range(len(data2[0]) - TG_in_one_day*forecast_day_number,len(data2[0])-time_lag+1):\n",
        "\n",
        "\t\t\tfor i in range(276):\n",
        "\t\t\t\ttemp=data2[i,index-TG_in_one_week: index + time_lag-1-TG_in_one_week].tolist()\n",
        "\t\t\t\ttemp.extend(data2[i,index-TG_in_one_day: index + time_lag-1-TG_in_one_day])\n",
        "\t\t\t\ttemp.extend(data2[i,index: index + time_lag-1])\n",
        "\t\t\t\tX_test_1[index-(len(data2[0]) - TG_in_one_day*forecast_day_number)].append(temp)\n",
        "\t\tX_test_1= np.array(X_test_1)\n",
        "\t\tprint(X_test_1.shape)\n",
        "\t\treturn X_train_1,X_test_1\n",
        "\n",
        "\tX_train_2,X_test_2=get_train_data_exit(metro_exit,time_lag,TG_in_one_day,forecast_day_number,TG_in_one_week)\n",
        "\n",
        "\n",
        "\treturn X_train_1,Y_train,X_test_1,Y_test,Y_test_original,a,b,X_train_2,X_test_2"
      ],
      "metadata": {
        "id": "km7Sbw25zaY5"
      },
      "execution_count": null,
      "outputs": []
    },
    {
      "cell_type": "code",
      "source": [
        "from google.colab import drive\n",
        "drive.mount('/content/drive')\n"
      ],
      "metadata": {
        "colab": {
          "base_uri": "https://localhost:8080/"
        },
        "id": "Jlgm4S56JsUA",
        "outputId": "08e0d4ad-fdd9-4149-abd0-d1f28f60e243"
      },
      "execution_count": null,
      "outputs": [
        {
          "output_type": "stream",
          "name": "stdout",
          "text": [
            "Drive already mounted at /content/drive; to attempt to forcibly remount, call drive.mount(\"/content/drive\", force_remount=True).\n"
          ]
        }
      ]
    }
  ]
}