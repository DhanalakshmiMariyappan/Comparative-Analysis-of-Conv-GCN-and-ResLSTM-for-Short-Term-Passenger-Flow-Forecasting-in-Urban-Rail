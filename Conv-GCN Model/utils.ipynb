{
  "nbformat": 4,
  "nbformat_minor": 0,
  "metadata": {
    "colab": {
      "provenance": []
    },
    "kernelspec": {
      "name": "python3",
      "display_name": "Python 3"
    },
    "language_info": {
      "name": "python"
    }
  },
  "cells": [
    {
      "cell_type": "code",
      "execution_count": null,
      "metadata": {
        "id": "4xWrI6s3bTGU"
      },
      "outputs": [],
      "source": [
        "import tensorflow as tf\n",
        "import scipy.sparse as sp\n",
        "import numpy as np\n",
        "\n",
        "def normalized_adj(adj):\n",
        "    adj = sp.coo_matrix(adj)\n",
        "    rowsum = np.array(adj.sum(1))\n",
        "    d_inv_sqrt = np.power(rowsum, -0.5).flatten()\n",
        "    d_inv_sqrt[np.isinf(d_inv_sqrt)] = 0.\n",
        "    d_mat_inv_sqrt = sp.diags(d_inv_sqrt)\n",
        "    normalized_adj = adj.dot(d_mat_inv_sqrt).transpose().dot(d_mat_inv_sqrt).tocoo()\n",
        "    normalized_adj = normalized_adj.astype(np.float32)\n",
        "    return normalized_adj\n",
        "\n",
        "def sparse_to_tuple(mx):\n",
        "    mx = mx.tocoo()\n",
        "    coords = np.vstack((mx.row, mx.col)).transpose()\n",
        "    values = mx.data\n",
        "    shape = mx.shape\n",
        "    sparse_tensor = tf.sparse.SparseTensor(indices=coords, values=values, dense_shape=shape)\n",
        "    sparse_tensor = tf.sparse.reorder(sparse_tensor)\n",
        "    return sparse_tensor\n",
        "\n",
        "def calculate_laplacian(adj, lambda_max=1):\n",
        "    adj = normalized_adj(adj + sp.eye(adj.shape[0]))\n",
        "    adj = sp.csr_matrix(adj)\n",
        "    adj = adj.astype(np.float32)\n",
        "    return sparse_to_tuple(adj)\n",
        "\n",
        "def weight_variable_glorot(input_dim, output_dim, name=\"\"):\n",
        "    init_range = np.sqrt(6.0 / (input_dim + output_dim))\n",
        "    initial = tf.random.uniform([input_dim, output_dim], minval=-init_range, maxval=init_range, dtype=tf.float32)\n",
        "    return tf.Variable(initial, name=name)\n",
        "\n",
        "\n"
      ]
    }
  ]
}