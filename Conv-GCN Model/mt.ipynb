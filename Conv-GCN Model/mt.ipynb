{
  "nbformat": 4,
  "nbformat_minor": 0,
  "metadata": {
    "colab": {
      "provenance": []
    },
    "kernelspec": {
      "name": "python3",
      "display_name": "Python 3"
    },
    "language_info": {
      "name": "python"
    }
  },
  "cells": [
    {
      "cell_type": "code",
      "execution_count": null,
      "metadata": {
        "id": "-_aw6W42bKVA"
      },
      "outputs": [],
      "source": [
        "from sklearn.preprocessing import MinMaxScaler\n",
        "from sklearn.metrics import mean_squared_error\n",
        "from sklearn.metrics import mean_absolute_error\n",
        "from sklearn.metrics import r2_score\n",
        "from math import sqrt\n",
        "import numpy as np\n",
        "\n",
        "\n",
        "def weighted_mean_absolute_percentage_error(Y_true, Y_pred):\n",
        "\t# (n * 276)\n",
        "\ttotal_sum=np.sum(Y_true)\n",
        "\taverage=[]\n",
        "\tfor i in range(len(Y_true)):\n",
        "\t\tfor j in range(len(Y_true[0])):\n",
        "\t\t\tif Y_true[i][j]>0:\n",
        "\t\t\t\ttemp=(Y_true[i][j]/total_sum)*np.abs((Y_true[i][j] - Y_pred[i][j]) / Y_true[i][j])\n",
        "\t\t\t\taverage.append(temp)\n",
        "\treturn np.sum(average)\n",
        "\n",
        "def evaluate_performance(Y_test_original,predictions):\n",
        "\tRMSE = sqrt(mean_squared_error(Y_test_original, predictions))\n",
        "\tprint('RMSE is '+str(RMSE))\n",
        "\tR2 = r2_score(Y_test_original,predictions)\n",
        "\tprint(\"R2 is：\"+str(R2))\n",
        "\tMAE=mean_absolute_error(Y_test_original, predictions)\n",
        "\tprint(\"MAE is：\"+str(MAE))\n",
        "\tWMAPE=weighted_mean_absolute_percentage_error(Y_test_original,predictions)\n",
        "\tprint(\"WMAPE is \"+str(WMAPE))\n",
        "\treturn RMSE,R2,MAE,WMAPE"
      ]
    }
  ]
}